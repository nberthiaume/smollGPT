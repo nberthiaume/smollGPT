{
 "cells": [
  {
   "cell_type": "code",
   "execution_count": 4,
   "metadata": {},
   "outputs": [],
   "source": [
    "import torch\n",
    "\n",
    "from model.model import SmollGPT, ModelConfig\n",
    "from training.tokenizer import get_tokenizer\n",
    "from training.train import generate_something"
   ]
  },
  {
   "cell_type": "code",
   "execution_count": 5,
   "metadata": {},
   "outputs": [
    {
     "data": {
      "text/plain": [
       "<All keys matched successfully>"
      ]
     },
     "execution_count": 5,
     "metadata": {},
     "output_type": "execute_result"
    }
   ],
   "source": [
    "tokenizer, vocab_size = get_tokenizer()\n",
    "device = 'cuda' if torch.cuda.is_available() else 'mps' if torch.backends.mps.is_available() else 'cpu'\n",
    "\n",
    "# Make sure to use the config with which it was trained!\n",
    "model_config = ModelConfig(\n",
    "    block_size = 128,\n",
    "    n_embed    = 64,\n",
    "    n_head     = 4,\n",
    "    n_layer    = 4,\n",
    "    use_bias   = True,\n",
    "    device     = device,\n",
    "    vocab_size = vocab_size,\n",
    "    flash_att  = True,\n",
    "    dropout    = 0.05\n",
    ")\n",
    "\n",
    "model = SmollGPT(model_config)\n",
    "model.to(device)\n",
    "state_dict = torch.load('./checkpoints/checkpoint_9845.pt')\n",
    "model.load_state_dict(state_dict=state_dict['model_state_dict'])"
   ]
  },
  {
   "cell_type": "code",
   "execution_count": 16,
   "metadata": {},
   "outputs": [
    {
     "name": "stdout",
     "output_type": "stream",
     "text": [
      "The capital of France is molecules!istani Contributions rides 1925 Till motherboardetitive investigatingSearch nerve gates! TC nerveptic! characteristicormonal\n"
     ]
    }
   ],
   "source": [
    "txt = generate_something(model, tokenizer, device, 'The capital of France is')\n",
    "print(txt)"
   ]
  }
 ],
 "metadata": {
  "kernelspec": {
   "display_name": "smollGPT",
   "language": "python",
   "name": "python3"
  },
  "language_info": {
   "codemirror_mode": {
    "name": "ipython",
    "version": 3
   },
   "file_extension": ".py",
   "mimetype": "text/x-python",
   "name": "python",
   "nbconvert_exporter": "python",
   "pygments_lexer": "ipython3",
   "version": "3.11.9"
  }
 },
 "nbformat": 4,
 "nbformat_minor": 2
}
